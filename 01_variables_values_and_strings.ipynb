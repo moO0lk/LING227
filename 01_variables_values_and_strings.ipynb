{
  "nbformat": 4,
  "nbformat_minor": 0,
  "metadata": {
    "colab": {
      "private_outputs": true,
      "provenance": [],
      "include_colab_link": true
    },
    "kernelspec": {
      "name": "python3",
      "display_name": "Python 3"
    },
    "language_info": {
      "name": "python"
    },
    "gpuClass": "standard"
  },
  "cells": [
    {
      "cell_type": "markdown",
      "metadata": {
        "id": "view-in-github",
        "colab_type": "text"
      },
      "source": [
        "<a href=\"https://colab.research.google.com/github/moO0lk/LING227/blob/main/01_variables_values_and_strings.ipynb\" target=\"_parent\"><img src=\"https://colab.research.google.com/assets/colab-badge.svg\" alt=\"Open In Colab\"/></a>"
      ]
    },
    {
      "cell_type": "markdown",
      "metadata": {
        "id": "9QRP-0q0YXG6"
      },
      "source": [
        "# Get your feet wet and start using some Python.\n",
        "\n",
        "Python has a reputation among some people for being \"easy\" because the code almost looks like you can just type what you want. An older [XKCD](https://xkcd.com/) comic tried to make this point (although it was when Python 2.x was being used!). You might not immediately get parts of this comic, but come back later in the course and you might find it more meaningful :)\n",
        "\n",
        "\n",
        "> <img src = \"https://imgs.xkcd.com/comics/python.png\" height = 500>\n",
        "\n",
        "\n",
        "\n",
        "Anyhow, let's put Python's reputation to the test and dive right into some basics and start using it.\n",
        "\n",
        "In this section, there are some code cells which you do not need to modify.\n",
        "\n",
        "1. Look at each cell and try to understand it without running the code cell. What do you think will happen when you run the code cell?\n",
        "2. Run the code cell (click the Play icon) to check your prediction. Were you right?\n",
        "\n"
      ]
    },
    {
      "cell_type": "code",
      "metadata": {
        "id": "0Gw_k8_1YXG6"
      },
      "source": [
        "print(\"Soda Onion\") #should print"
      ],
      "execution_count": null,
      "outputs": []
    },
    {
      "cell_type": "code",
      "metadata": {
        "id": "cJvWmCmUYXG7"
      },
      "source": [
        "name = \"Soda Onion\" #should print\n",
        "print(name)"
      ],
      "execution_count": null,
      "outputs": []
    },
    {
      "cell_type": "code",
      "metadata": {
        "id": "DqkdfJ4fYXG7"
      },
      "source": [
        "len(name) #should tell use the length of the string"
      ],
      "execution_count": null,
      "outputs": []
    },
    {
      "cell_type": "code",
      "source": [
        "for letter in name: #i mean yea it should print it out just in a weird way\n",
        "  print(letter)"
      ],
      "metadata": {
        "id": "Te9OVCmMZBAr"
      },
      "execution_count": null,
      "outputs": []
    },
    {
      "cell_type": "code",
      "metadata": {
        "id": "U6KURTZnYXG7"
      },
      "source": [
        "[letter for letter in name] #creates a list?"
      ],
      "execution_count": null,
      "outputs": []
    },
    {
      "cell_type": "code",
      "source": [
        "[letter for letter in reversed(name)] #same thing above but reversed"
      ],
      "metadata": {
        "id": "NyRg_O2janNM"
      },
      "execution_count": null,
      "outputs": []
    },
    {
      "cell_type": "code",
      "metadata": {
        "id": "VDaDoQi2YXG8"
      },
      "source": [
        "NZ_Pop = 4868882\n",
        "\n",
        "World_Pop = 7900000000\n",
        "\n",
        "NZ_perc = (NZ_Pop / World_Pop) * 100\n",
        "\n",
        "NZ_perc #this should print out what it = to which is 0.06163141772"
      ],
      "execution_count": null,
      "outputs": []
    },
    {
      "cell_type": "code",
      "metadata": {
        "id": "n6dO7PlSYXG8"
      },
      "source": [
        "anthem_te_reo = \"E Ihowa Atua,\\nO ngā iwi mātou rā,\\nāta whakarongo na;\\nMe aroha noa.\\nKia hua ko te pai;\\nKia tau tō atawhai;\\nManaakitia mai\\nAotearoa\"\n",
        "anthem_english = \"God of nations at thy feet,\\nIn the bonds of love we meet.\\nHear our voices, we entreat\\nGod defend our free land.\\nGuard Pacific's triple star\\nFrom the shafts of strife and war,\\nMake her praises heard afar,\\nGod defend New Zealand.\"\n",
        "print(anthem_te_reo + \"\\n\\n\" + anthem_english) #prints the tereo anthem first and then puts two paragraph breaks and then prints the english version"
      ],
      "execution_count": null,
      "outputs": []
    },
    {
      "cell_type": "markdown",
      "source": [
        "# Values and Variables\n",
        "\n",
        "The code cells above contained a range of Python *values* which were saved to different *variables*. Values are the basic pieces of information or data that Python (and other programming languages) work with.\n",
        "\n",
        "A value can be a number, a piece of text, or other things, such as containers. Here are some of the examples used in the code cells above\n",
        "\n",
        "Variable | Value | Type\n",
        "------|------|------\n",
        "`name`|\"Soda Onion\"|text\n",
        "`NZ_Pop`|4868882|number\n",
        "\n",
        "\n",
        "The *type* of a value is actually more specific than the table above suggests. For example, numbers are classified into integers (whole numbers) or floats (decimals). And text is classified as a `string` (more on this later).\n",
        "\n",
        "You can check the `type` of a value in Python by using the `type()` function. See below, the `type` for each value will be shown in the output. Knowing the type of a value is useful when performing operations on text versus numbers."
      ],
      "metadata": {
        "id": "-qh32dQVaARK"
      }
    },
    {
      "cell_type": "code",
      "source": [
        "# int = integer\n",
        "type(42) #any real full number"
      ],
      "metadata": {
        "id": "VxRZMPyQfwTB"
      },
      "execution_count": null,
      "outputs": []
    },
    {
      "cell_type": "code",
      "source": [
        "# float = decimal\n",
        "type(4.2) #any real number"
      ],
      "metadata": {
        "id": "nErm1lMnfwTK"
      },
      "execution_count": null,
      "outputs": []
    },
    {
      "cell_type": "code",
      "source": [
        "# str = text\n",
        "type('forty-two') #words or numbers"
      ],
      "metadata": {
        "id": "hxsyHuPrfwTK"
      },
      "execution_count": null,
      "outputs": []
    },
    {
      "cell_type": "markdown",
      "source": [
        "## What’s the big deal with variables?\n",
        "- values are gone once they are executed by the interpreter\n",
        "- variables will persist in memory (so you can use and reuse them)\n",
        "- variables can be updated based on other actions\n",
        "\n",
        "### Assigning values to a variable\n",
        "To assign a value to a variable, we use the `=` sign and the following syntax:\n",
        "\n",
        "> `variable_name = value`\n",
        "\n",
        "### Rules for variable names\n",
        "- Do not start with numbers\n",
        "- Do not use special characters (e.g., #, @)\n",
        "- Do not use Python keywords (e.g., `is`, `True`, `False`)\n"
      ],
      "metadata": {
        "id": "rGU1T4uKVtXR"
      }
    },
    {
      "cell_type": "markdown",
      "source": [
        "## **Your Turn**\n",
        "\n",
        "1. Below, create a code cell and save some text to a variable. Give your variable a descriptive name.\n",
        "\n",
        "To save text to a variable, use this syntax:\n",
        "\n",
        "> `variable_name = \"text\"`\n",
        "\n",
        "Make sure that your string is surrounded by balanced quote marks, just like the example!\n",
        "\n",
        "\n",
        "2. Then, in a new code cell, use the `print()` function to print the value of your variable to the console. Use this syntax:\n",
        "\n",
        "> `print(variable)`"
      ],
      "metadata": {
        "id": "D6T-0rq3UsyC"
      }
    },
    {
      "cell_type": "code",
      "source": [
        "variable_name = \"text\"\n",
        "print(variable_name)"
      ],
      "metadata": {
        "id": "fl5M-SMa0T88"
      },
      "execution_count": null,
      "outputs": []
    },
    {
      "cell_type": "markdown",
      "source": [
        "# Strings\n",
        "\n",
        "As you saw above, we are using the word `string` to represent text. You might wonder, why not just call it `text` or `words`? The reason provides us with our first glimpse into the difference between how humans and computers \"see\" language. For humans, we see groups of letters and (depending on the language) spaces to form words. However, for Python, strings are defined as a **sequence of characters**.\n",
        "\n",
        "The word `string` represents the idea that text data is fundamentally a *sequence* - a string of characters with a start and an end. A string can be any arbitrary size long - from 0 to a million (or more!) characters long.\n",
        "\n",
        "There are other types of sequences in Python, so a string is a specific type of sequence, one which contains characters representing written language.\n",
        "\n",
        "This can be a bit tricky at first because we are also using letters and words to write the actual Python code. This is one reason why strings are surrounded quote marks - in order to distinguish them from other values as well as from the actual Python code.\n",
        "\n",
        "### Creating strings\n",
        "\n",
        "To create a string, we need to surround the text data in quote marks. These quotes are called `delimiters` and are how you determine the start and end of a string. Crucially, the delimiter on each end must match:\n",
        "\n",
        "  - ' + ' (single quotes)\n",
        "  - '' + ''  (double quotes)\n",
        "  - ''' + ''' (triple quotes)\n",
        "\n",
        "What happens when you don't have matching delimiters? Run the code cells below and compare the output."
      ],
      "metadata": {
        "id": "tUcEouAVLVv_"
      }
    },
    {
      "cell_type": "code",
      "source": [
        "print(\"I'm so happy to be here!\")"
      ],
      "metadata": {
        "id": "I_vsfXBYMehY"
      },
      "execution_count": null,
      "outputs": []
    },
    {
      "cell_type": "code",
      "source": [
        "print(\"I'm so happy to be here\")"
      ],
      "metadata": {
        "id": "AzvGHX7QMiyh"
      },
      "execution_count": null,
      "outputs": []
    },
    {
      "cell_type": "markdown",
      "source": [
        "## **String Functions**\n",
        "\n",
        "Strings have their own things that they can do - *functions* - and are automatically built-in to any string you create or work with in Python. To use these built-in functions, we use add a full stop (`.`) to the end of the string (without a space) and then type the name of the function we'd like to use. We also need to include a set of opened and closed brackets after the name of the function - don't worry about this for now!\n",
        "\n",
        "Here is an example:\n",
        "\n"
      ],
      "metadata": {
        "id": "3QNH-A0SNDCy"
      }
    },
    {
      "cell_type": "code",
      "source": [
        "# this is a string by itself:\n",
        "\n",
        "\"Aoteaora New Zealand\""
      ],
      "metadata": {
        "id": "d61uxPo2n0RE"
      },
      "execution_count": null,
      "outputs": []
    },
    {
      "cell_type": "code",
      "source": [
        "# now add a string function to the end:\n",
        "\n",
        "\"Aoteaora New Zealand\".lower()\n",
        "\"Aoteaora New Zealand\".upper()"
      ],
      "metadata": {
        "id": "SqppCv1xn9HH"
      },
      "execution_count": null,
      "outputs": []
    },
    {
      "cell_type": "markdown",
      "source": [
        "Note that the `.lower()` was attached to the end of the string, outside the final delimiter.\n",
        "\n",
        "Based on the name of the function and the resulting output, it should be clear that the `.lower()` string function will convert the entire string to lower-cased letters. Neat!"
      ],
      "metadata": {
        "id": "44lDDFppoZaj"
      }
    },
    {
      "cell_type": "markdown",
      "source": [
        "Here are some other string functions you can use:\n",
        "\n",
        "> * `string.upper()` = return a lowercase version of a string\n",
        "> * `string.lower()` = return an uppercase version of a string\n",
        "> * `string.title()` = return a title case version of a string\n",
        "> * `string.strip()` = strip all whitespace from a string\n",
        "> * `string.rstrip()` = strip all trailing whitespace from a string\n",
        "> * `string.lstrip()` = strip all leading whitespace from a string\n",
        "\n",
        "*You can find a more complete list of string methods/functions [here](https://www.geeksforgeeks.org/python-string-methods/)*\n",
        "\n",
        "\n",
        "Here are some more examples - take the opportunity to make your own examples and play around with the output."
      ],
      "metadata": {
        "id": "GQkxDpntns_1"
      }
    },
    {
      "cell_type": "code",
      "source": [
        "# Print a lower case version of the string using .lower()\n",
        "print('KIWI'.lower())"
      ],
      "metadata": {
        "id": "hjWw19TnOC1K"
      },
      "execution_count": null,
      "outputs": []
    },
    {
      "cell_type": "code",
      "source": [
        "# Remove the whitespace from the front of a sentence using .lstrip()\n",
        "'    look at how the whitespace in front of these words goes away!'.lstrip()"
      ],
      "metadata": {
        "id": "mh8pg8YpR0WZ"
      },
      "execution_count": null,
      "outputs": []
    },
    {
      "cell_type": "markdown",
      "source": [
        "We can also call the string functions on variable names that have an underyling value that is a string:"
      ],
      "metadata": {
        "id": "N-BS0_eRozPa"
      }
    },
    {
      "cell_type": "code",
      "source": [
        "# create a variable and assign a string as its values\n",
        "\n",
        "VUW = \"Te Herenga Waka\""
      ],
      "metadata": {
        "id": "63C8AtMDo3wB"
      },
      "execution_count": null,
      "outputs": []
    },
    {
      "cell_type": "code",
      "source": [
        "# call the variable name to \"see\" the value:\n",
        "\n",
        "VUW"
      ],
      "metadata": {
        "id": "Ahly8i-ipN3p"
      },
      "execution_count": null,
      "outputs": []
    },
    {
      "cell_type": "code",
      "source": [
        "# use a string function on the variable name\n",
        "\n",
        "VUW.upper()"
      ],
      "metadata": {
        "id": "DCpI6y1npQ9H"
      },
      "execution_count": null,
      "outputs": []
    },
    {
      "cell_type": "markdown",
      "source": [
        "### Counting the length of a string\n",
        "\n",
        "We can also use the Python function `len()` to count the length of a string. Since a string is a series of characters, `len()` will tell us how many characters are in a string."
      ],
      "metadata": {
        "id": "K6flE7PvxFPd"
      }
    },
    {
      "cell_type": "code",
      "source": [
        "# Count the length of a string using len() this one should be 4\n",
        "len('kiwi')"
      ],
      "metadata": {
        "id": "A2OfSnUmOHfD"
      },
      "execution_count": null,
      "outputs": []
    },
    {
      "cell_type": "markdown",
      "source": [
        "Why does the following code cell give us 15?"
      ],
      "metadata": {
        "id": "XN7QDxJhp7wg"
      }
    },
    {
      "cell_type": "code",
      "source": [
        "# works on the variable name too\n",
        "# because VUW = \"Te Herenga Waka\"\n",
        "len(VUW)"
      ],
      "metadata": {
        "id": "z5eupf_Np4LV"
      },
      "execution_count": null,
      "outputs": []
    },
    {
      "cell_type": "markdown",
      "source": [
        "Because even though the variable *name* is only three characters long, the underlying *value* is 15 characters long.\n",
        "\n",
        "- VUW = 3 characters\n",
        "- Te Herenga Waka = 15 characters (including spaces!)"
      ],
      "metadata": {
        "id": "lByf-c3kqCUC"
      }
    },
    {
      "cell_type": "markdown",
      "source": [
        "### `function()` vs. `.function()`\n",
        "\n",
        "Take special note of the differences between functions like `print()` and the string functions like `.upper()`. Both the `print()` and `len()` functions are Python functions that are not attached to a specific value. You can think of them as freely available to be used on all types of variables and values.\n",
        "\n",
        "The main difference here is that `len()` and `print()` required putting the variable or value inside the brackets, whereas the other functions require putting the variable or string first and typing the `.function()` afterwards.\n",
        "\n",
        "The first kind of function, such as `print()` and `len()` are functions not specific to any one type or class. The second kind, such as `.upper()` are specific to a type (strings), and thus that function can only be used on values of that type. You can think of the `.function()` style as a tail which belongs to a specific animal. Foxes can only use fox tails, and dogs can only use dog tails. Strings can only use string functions, and other types can only use their functions.\n",
        "\n",
        "Later on, this distinction becomes fuzzy when we start importing functions from different libraries, because we can use the `.function()` method to call functions from libraries, or import them directly. But the general principle still remains - functions which are specific to *something* (either a type, library, or module) can be called using the `.` notation. You can see this below, where I can import a library (called `math`) and then use the `.fsum()` function to calculate the sum of two numbers.\n",
        "\n",
        "In the second cell, I import *just* the function, which makes it available without needing to use the `.` notation. This may be confusing right now, so don't worry if it doesn't make immediate sense! But you'll notice how different strategies for importing influence the way that functions are available in a notebook or a program.\n"
      ],
      "metadata": {
        "id": "aeNhhY5TqeXU"
      }
    },
    {
      "cell_type": "code",
      "source": [
        "# Import the library and then call a specific function from that library\n",
        "import math\n",
        "math.fsum([1,2])"
      ],
      "metadata": {
        "id": "y-EuogihrYcH"
      },
      "execution_count": null,
      "outputs": []
    },
    {
      "cell_type": "code",
      "source": [
        "# Import just the function from the math library\n",
        "from math import fsum\n",
        "fsum([1,2])"
      ],
      "metadata": {
        "id": "PJFi1qijroNP"
      },
      "execution_count": null,
      "outputs": []
    },
    {
      "cell_type": "markdown",
      "source": [
        "## **Your Turn**\n",
        "\n",
        "- Create some new code cells below\n",
        "- In the code cells, create some strings and try:\n",
        "  - using different delimiters\n",
        "  - using different functions on the strings\n",
        "  - saving the strings to a variable name and then using functions\n",
        "\n",
        "\n",
        "\n",
        "\n"
      ],
      "metadata": {
        "id": "qGnAZVeQOZl3"
      }
    },
    {
      "cell_type": "markdown",
      "source": [
        "## **Strings versus Words**\n",
        "\n",
        "Let's return to the idea that strings are not exactly the same as words, phrases, and sentences. Strings might look like sentences or phrases to us, and we can understand the differences between letters, punctuation, and whitespace. But computationally these are all variably equal **characters**, and as such a string in Python will be as long as the number of characters.\n",
        "\n",
        "For example, note how the length of the following two strings is different, even though the phrase is identical. Can you see why?"
      ],
      "metadata": {
        "id": "8Krj-uj5PnVC"
      }
    },
    {
      "cell_type": "code",
      "source": [
        "# Version 1 - it is 17 characters long\n",
        "len('underneath it all')"
      ],
      "metadata": {
        "id": "pBcB5-ItP2Ea"
      },
      "execution_count": null,
      "outputs": []
    },
    {
      "cell_type": "code",
      "source": [
        "# Version 2 - it is 18 characters long\n",
        "len('underneath it all ')"
      ],
      "metadata": {
        "id": "nBbJVqjKP4jK"
      },
      "execution_count": null,
      "outputs": []
    },
    {
      "cell_type": "markdown",
      "source": [
        "Punctuation also matters, compare these two examples, why is the first version longer than the second?"
      ],
      "metadata": {
        "id": "TewNwKv0Qz0u"
      }
    },
    {
      "cell_type": "code",
      "source": [
        "len(\"I can't even\") #extra ' in cant"
      ],
      "metadata": {
        "id": "VHvWorwGQ4kE"
      },
      "execution_count": null,
      "outputs": []
    },
    {
      "cell_type": "code",
      "source": [
        "len(\"I cant even\")"
      ],
      "metadata": {
        "id": "nMiqR8EfQ7OB"
      },
      "execution_count": null,
      "outputs": []
    },
    {
      "cell_type": "markdown",
      "source": [
        "# Discussion\n",
        "\n",
        "Consider the way strings are stored computationally.\n",
        "\n",
        "- What implications or challenges do you think this might pose for the computational representation of text?\n",
        "\n",
        "- Based on your understanding of strings thus far, are there any differences between the following computational representations of text?\n",
        "  - words versus letters\n",
        "  - sentences versus words\n",
        "  - paragraphs versus sentences\n",
        "  - texts versus paragraphs\n",
        "\n",
        "- What remaining questions do you have about variables, strings, and the functions used in this notebook?\n",
        "\n"
      ],
      "metadata": {
        "id": "vrXHNlOj1r_Z"
      }
    }
  ]
}