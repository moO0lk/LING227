{
  "nbformat": 4,
  "nbformat_minor": 0,
  "metadata": {
    "colab": {
      "provenance": [],
      "mount_file_id": "1eLjATPl2H8xeHO3qdzCbm737mrK-Cz8f",
      "authorship_tag": "ABX9TyNlCmMKRLatOghJZBAHtBrb",
      "include_colab_link": true
    },
    "kernelspec": {
      "name": "python3",
      "display_name": "Python 3"
    },
    "language_info": {
      "name": "python"
    }
  },
  "cells": [
    {
      "cell_type": "markdown",
      "metadata": {
        "id": "view-in-github",
        "colab_type": "text"
      },
      "source": [
        "<a href=\"https://colab.research.google.com/github/moO0lk/LING227/blob/main/LING227_assingment_1.ipynb\" target=\"_parent\"><img src=\"https://colab.research.google.com/assets/colab-badge.svg\" alt=\"Open In Colab\"/></a>"
      ]
    },
    {
      "cell_type": "markdown",
      "source": [
        "In this corpus I have lyrics of Mothy's 'The Daughter of Evil Series'. I got all of the english translated lyrics from  [pricecheck translations](https://pricechecktranslations.tumblr.com/evillious%20release%20order).\n",
        "\n",
        "This series is apart of a larger series called the Evillous Chronicals. The lore can get very, very confusing. The way most of these lyrics read is like a poem so it won't exactly make up full sentances."
      ],
      "metadata": {
        "id": "n3WpzMkfCmQH"
      }
    },
    {
      "cell_type": "markdown",
      "source": [],
      "metadata": {
        "id": "fySa6XNhzQj-"
      }
    },
    {
      "cell_type": "code",
      "execution_count": 8,
      "metadata": {
        "id": "I0DvBdjYCDfZ"
      },
      "outputs": [],
      "source": [
        "# loading in all of the texts from The Daughter of Evil Series\n",
        "Daughter_of_Evil = open('/content/drive/MyDrive/MothyDaughterOfEvil/Daughter_of_Evil.txt').read()\n",
        "Servant_of_Evil = open('/content/drive/MyDrive/MothyDaughterOfEvil/Servant_of_Evil.txt').read()\n",
        "Regret_Message = open('/content/drive/MyDrive/MothyDaughterOfEvil/Regret_Message.txt').read()\n",
        "The_Daughter_of_White = open('/content/drive/MyDrive/MothyDaughterOfEvil/The_Daughter_of_White.txt').read()\n",
        "Twiright_Prank = open('/content/drive/MyDrive/MothyDaughterOfEvil/Twiright_Prank.txt').read()\n",
        "Millennium_Wiegenlied = open('/content/drive/MyDrive/MothyDaughterOfEvil/The_Maiden_of_the_Tree_Millennium_Wiegenlied.txt').read()\n",
        "Handbeat_Clocktower = open('/content/drive/MyDrive/MothyDaughterOfEvil/Handbeat_Clocktower.txt').read()\n",
        "Blink = open('/content/drive/MyDrive/MothyDaughterOfEvil/Blink.txt').read()\n",
        "A_Heros_Armor_is_Always_Crimson = open('/content/drive/MyDrive/MothyDaughterOfEvil/A_Heros_Armor_is_Always_Crimson.txt').read()\n",
        "Neomaria_of_the_Inverted_Gravestone = open('/content/drive/MyDrive/MothyDaughterOfEvil/Neomaria_of_the_Inverted_Gravestone.txt').read()\n",
        "Swear_an_Oath_on_That_Bridge = open('/content/drive/MyDrive/MothyDaughterOfEvil/Swear_an_Oath_on_That_Bridge.txt').read()\n",
        "That_King_Was_Born_From_Mud = open('/content/drive/MyDrive/MothyDaughterOfEvil/That_King_Was_Born_From_Mud.txt').read()\n",
        "Reach_for_the_Stars = open('/content/drive/MyDrive/MothyDaughterOfEvil/Reach_for_the_Stars.txt').read()"
      ]
    },
    {
      "cell_type": "code",
      "source": [
        "print(Twiright_Prank)"
      ],
      "metadata": {
        "colab": {
          "base_uri": "https://localhost:8080/"
        },
        "collapsed": true,
        "id": "oUcmL359xjcY",
        "outputId": "49eba794-0c62-4b2c-af93-f10ae3f4adae"
      },
      "execution_count": null,
      "outputs": [
        {
          "output_type": "stream",
          "name": "stdout",
          "text": [
            "At a place with nothing there\n",
            "\n",
            "I suddenly tripped and burst into tears\n",
            "\n",
            "It’s alright, this is surely\n",
            "\n",
            "A prank of the bad twilight\n",
            "\n",
            " .\n",
            "\n",
            "We should return soon\n",
            "\n",
            "Before it gets dark\n",
            "\n",
            " .\n",
            "\n",
            "At the other end of the sea’s horizon\n",
            "\n",
            "The demon sweetly sneered\n",
            "\n",
            "“I’ll put you in\n",
            "\n",
            "My black stomach, and then let’s play”\n",
            "\n",
            " .\n",
            "\n",
            "We should return soon\n",
            "\n",
            "Before we’re eaten\n",
            "\n",
            " .\n",
            "\n",
            "The small box\n",
            "\n",
            "We had hidden in the sandy beach\n",
            "\n",
            "It’s wrapped in the night’s darkness\n",
            "\n",
            "It will never be found again\n",
            "\n",
            " .\n",
            "\n",
            "Let’s share the sunset\n",
            "\n",
            "One half each\n",
            "\n",
            "I’ll be the day\n",
            "\n",
            "I’ll be the night\n",
            "\n",
            "If we join hands, we get  an orange sky\n",
            "\n",
            " .\n",
            "\n",
            "The third ring of the bell is\n",
            "\n",
            "A signal that the demon is awakening\n",
            "\n",
            "Making a greedy face\n",
            "\n",
            "It fixes a glance this way\n",
            "\n",
            " .\n",
            "\n",
            "Because I won’t\n",
            "\n",
            "Give up my snack!\n",
            "\n",
            " .\n",
            "\n",
            "With its stomach empty, the demon\n",
            "\n",
            "Made a very sad looking face\n",
            "\n",
            "“Even if I swallowed down the whole world\n",
            "\n",
            "My stomach won’t get full”\n",
            "\n",
            " .\n",
            "\n",
            "I pity it, so\n",
            "\n",
            "I’ll share my snack\n",
            "\n",
            " .\n",
            "\n",
            "“Thank you, dear prince\n",
            "\n",
            "In thanks, I shall covertly\n",
            "\n",
            "Tell you a small secret\n",
            "\n",
            "Of this sea”\n",
            "\n",
            " .\n",
            "\n",
            "Let’s share the sunset\n",
            "\n",
            "One half each\n",
            "\n",
            "Later I’ll tell you too\n",
            "\n",
            "The wonderful secret of this sea\n",
            "\n",
            " .\n",
            "\n",
            "Let’s share the sunset\n",
            "\n",
            "One half each\n",
            "\n",
            "I’ll be the day\n",
            "\n",
            "I’ll be the night\n",
            "\n",
            "If we join hands, we get an orange sky\n"
          ]
        }
      ]
    },
    {
      "cell_type": "code",
      "source": [],
      "metadata": {
        "id": "wuQr3bbfyX9C"
      },
      "execution_count": null,
      "outputs": []
    }
  ]
}