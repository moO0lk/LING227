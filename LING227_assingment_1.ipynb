{
  "nbformat": 4,
  "nbformat_minor": 0,
  "metadata": {
    "colab": {
      "provenance": [],
      "authorship_tag": "ABX9TyMQ4+74NIHC7UZRrxlfm6Gm",
      "include_colab_link": true
    },
    "kernelspec": {
      "name": "python3",
      "display_name": "Python 3"
    },
    "language_info": {
      "name": "python"
    }
  },
  "cells": [
    {
      "cell_type": "markdown",
      "metadata": {
        "id": "view-in-github",
        "colab_type": "text"
      },
      "source": [
        "<a href=\"https://colab.research.google.com/github/moO0lk/LING227/blob/main/LING227_assingment_1.ipynb\" target=\"_parent\"><img src=\"https://colab.research.google.com/assets/colab-badge.svg\" alt=\"Open In Colab\"/></a>"
      ]
    },
    {
      "cell_type": "markdown",
      "source": [
        "In this corpus I have lyrics of Mothy's 'The Daughter of Evil Series'. The I got all of the english translated lyrics from  [pricecheck translations](https://pricechecktranslations.tumblr.com/evillious%20release%20order)."
      ],
      "metadata": {
        "id": "n3WpzMkfCmQH"
      }
    },
    {
      "cell_type": "code",
      "execution_count": null,
      "metadata": {
        "id": "I0DvBdjYCDfZ"
      },
      "outputs": [],
      "source": []
    }
  ]
}