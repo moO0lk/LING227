{
  "nbformat": 4,
  "nbformat_minor": 0,
  "metadata": {
    "colab": {
      "private_outputs": true,
      "provenance": [],
      "toc_visible": true,
      "include_colab_link": true
    },
    "kernelspec": {
      "name": "python3",
      "display_name": "Python 3"
    },
    "language_info": {
      "name": "python"
    }
  },
  "cells": [
    {
      "cell_type": "markdown",
      "metadata": {
        "id": "view-in-github",
        "colab_type": "text"
      },
      "source": [
        "<a href=\"https://colab.research.google.com/github/moO0lk/LING227/blob/main/05_conditional_expressions.ipynb\" target=\"_parent\"><img src=\"https://colab.research.google.com/assets/colab-badge.svg\" alt=\"Open In Colab\"/></a>"
      ]
    },
    {
      "cell_type": "markdown",
      "source": [
        "#### Relevant readings\n",
        "\n",
        "[NLTK Book, Chapter 1, Section 4](https://www.nltk.org/book/ch01.html#control_index_term)"
      ],
      "metadata": {
        "id": "l2ByrOVpeFN7"
      }
    },
    {
      "cell_type": "markdown",
      "source": [
        "# Conditional Execution\n",
        "\n",
        "Programs need to be able to make decisions at certain points. Conditional expressions allow you to define tests or decision points at which your program will execute a specific action.\n",
        "\n",
        "For example, what if you wanted to find all of the uppercase letters in the string `\"Victoria University of Wellington\"`? You would need to provide Python with a test that it can use to determine uppercased from lowercased characters.\n",
        "\n",
        "What if you wanted to find all the words in a book which were over five letters long? Again you would define a test which will be used to determine whether a word should be included or not.\n",
        "\n",
        "We use these \"tests\" all the time. Consider the picture below - if you walked past this store and wanted to go inside, you would immediately form a test in your mind in order to determine if the store is open.\n",
        "\n",
        ">>> ![](https://i.imgur.com/lBHtBpS.jpg)\n",
        "\n",
        "- *If today is Monday, then I can't go in the store*\n",
        "- *If today is Tuesday and the current time is 1:00, then I can go in the store*\n",
        "- *If the lights are on, I can go in the store*\n",
        "\n",
        "Using conditional logic in Python is very similar. You use words like `if`, `and`, `or` to develop a set of tests (or *conditions*) which you ask Python to consider. And, depending on the results of the test, you ask Python to do one thing or the other.\n",
        "\n",
        "\n",
        "\n"
      ],
      "metadata": {
        "id": "OaEhoUmjwce9"
      }
    },
    {
      "cell_type": "markdown",
      "source": [
        "\n",
        "# Boolean Values and `==`\n",
        "\n",
        "- The values `True` and `False` are special values in Python (so don't use these as variable names!). They are called booleans, which means it is only possible to be one thing or the other: if something is `True`, it cannot be `False`, and vice versa.\n",
        "\n",
        "- the double equals sign `==` is an important relational operator. This operator tests whether two values are equal. Why the double equal sign? Because the single equal sign (i.e., `=`) is used for variable assignment. Compare below:"
      ],
      "metadata": {
        "id": "GgULS_Z60Yzt"
      }
    },
    {
      "cell_type": "code",
      "source": [
        "# an error because single equal sign is for assigning variables\n",
        "'Soda' = 'Soda'"
      ],
      "metadata": {
        "id": "Fu9c3WvX1Oca"
      },
      "execution_count": null,
      "outputs": []
    },
    {
      "cell_type": "code",
      "source": [
        "# the output is \"True\" because the two values are equal\n",
        "'Soda' == 'Soda'"
      ],
      "metadata": {
        "id": "0i6RMl2n1osQ"
      },
      "execution_count": null,
      "outputs": []
    },
    {
      "cell_type": "code",
      "source": [
        "# the output is \"False\" because the two values are NOT equal (do you see why?)\n",
        "'soda' == 'Soda'"
      ],
      "metadata": {
        "id": "rdXLf40v1_pw"
      },
      "execution_count": null,
      "outputs": []
    },
    {
      "cell_type": "markdown",
      "source": [
        "The opposite of testing for equality is testing for *inequality*. You can do that with the `!=` operator, which stands for \"does not equal\""
      ],
      "metadata": {
        "id": "_8VP0vcQ19zA"
      }
    },
    {
      "cell_type": "code",
      "source": [
        "# these strings are not equal, so the test returns \"True\"\n",
        "'Wellington' != 'Auckland'"
      ],
      "metadata": {
        "id": "oKiFKbm73FqL"
      },
      "execution_count": null,
      "outputs": []
    },
    {
      "cell_type": "code",
      "source": [
        "# these strings are equal, so the test returns \"False\"\n",
        "'kiwi' != 'kiwi'"
      ],
      "metadata": {
        "id": "FtZLgBzT3QfZ"
      },
      "execution_count": null,
      "outputs": []
    },
    {
      "cell_type": "markdown",
      "source": [
        "# `if` statements\n",
        "\n",
        "Now that you see how to test for equality, the next step is learning how to execute specific actions depending on the results of an equality test.\n",
        "\n",
        "We want to consider tests such as:\n",
        "\n",
        " - if two things are equal, perform Action 1\n",
        " - if two things are not equal, perform Action 2\n",
        "\n",
        " We can use `if` statements to do this in Python. This will introduce you to one of the interesting quirks of Python - the use of indentation in the code to establish a hierarchy among the order of execution. An `if` statement looks like this:\n",
        "\n",
        ">`if` condition is True:\n",
        ">> do something\n",
        "\n",
        "Here is how an `if statement` would look in a Colab code cell:\n",
        "\n",
        "![](https://i.imgur.com/wJBQaiy.png)\n",
        "\n",
        "Note that the `print()` statement in line 2 is indented once so that it is nested underneath the `if` statement. In the next screenshot, I have annotated the different parts of the `if` statement:\n",
        "\n",
        "<img src = https://i.imgur.com/7e1aj0w.png width = \"500\">\n",
        "\n",
        "\n",
        "Colab and many other Python environments will attempt to add the indentations for you automatically and also warn you if something is wrong. Below, Colab is using a squiggle to show us that the indentation is missing:\n",
        "\n",
        "![](https://i.imgur.com/pgj4u1N.png)\n",
        "\n",
        "\n",
        "And if you run the cell, you get an indentation error:\n",
        "\n",
        "![](https://i.imgur.com/6npAhXZ.png)\n",
        "\n",
        "\n",
        "Enough with the screenshots, it's time to write some if statements below! Look at the next example, I first save a number to the variable `time` and then write a test to determine if a store is open.\n",
        "\n",
        "Play around with the values of `time` as well as the value after the `==` in the `if` statement. While this is a successful test, it is also restricted to a single value, so we will explore how to make this test more interesting.\n"
      ],
      "metadata": {
        "id": "TmxIOSyf6xLh"
      }
    },
    {
      "cell_type": "code",
      "source": [
        "# Let's say it is 1pm\n",
        "time = 1300\n",
        "\n",
        "# is the store open at 1pm?\n",
        "if time == 1300:\n",
        "  print('the store is open')"
      ],
      "metadata": {
        "id": "vd0e_Oxp-e-L"
      },
      "execution_count": null,
      "outputs": []
    },
    {
      "cell_type": "code",
      "source": [
        "# now let's try 2pm:\n",
        "\n",
        "time = 1400\n",
        "\n",
        "if time != 1300:\n",
        "  print('the store is closed!')"
      ],
      "metadata": {
        "id": "MwXmkZ6Znl-e"
      },
      "execution_count": null,
      "outputs": []
    },
    {
      "cell_type": "markdown",
      "source": [
        "## `else` statements\n",
        "\n",
        "But before moving on to more complex conditions, let's focus on adding to our current `if` statement. Right now, the code in the cells above only does one thing, and only if the conditional test results in `True`. If the result of the test is `False`, nothing happen!\n",
        "\n",
        "This demonstrates the logic here - the code nested under the `if` statement will only trigger when the `if` statement is true.\n",
        "\n",
        "But what if we also want to do something if the statement is False? This is where we want to combine `if` with `else`.\n",
        "\n",
        "\n",
        "\n"
      ],
      "metadata": {
        "id": "ea1-8SHT_iLP"
      }
    },
    {
      "cell_type": "code",
      "source": [
        "# set the time to 1pm again\n",
        "time = 1300\n",
        "\n",
        "# ask the test to check if time is not equal to 1300\n",
        "if time != 1300:\n",
        "  print('nothing happens here because the test returns False')"
      ],
      "metadata": {
        "id": "p5aUK5ehoLCS"
      },
      "execution_count": null,
      "outputs": []
    },
    {
      "cell_type": "markdown",
      "source": [
        "\n",
        " We can add an alternative command to the code using the `else` statement. You can think of `if` and `else` exactly the same as real life:\n",
        "\n",
        "- `if` you are hungry, get some food. `else`, watch some tv.\n",
        "- `if` you are tired, go to sleep. `else`, do some work.\n",
        "- `if` you can fly, that's crazy. `else`, that's normal.\n",
        "\n",
        "To add an `else` statement to an `if` statement, you add `else` after the body of the `if` statement, with the indentation matching between the `if` and the `else`. And, the body of `else` needs to be indented just the same way the body for `if` was indented. You can see how indentation is used to determine how different parts of the program will be run. Here is an annotated screenshot.\n",
        "\n",
        "<img src = https://i.imgur.com/fChggy2.png width = \"500\">\n",
        "\n",
        "You can run the code cell below to see what will happen.\n",
        "\n",
        "Try changing the value of `time` to get the program to print different statements."
      ],
      "metadata": {
        "id": "XGBnRKOnoKPS"
      }
    },
    {
      "cell_type": "code",
      "source": [
        "# now our code will do something when the conditional is False or True\n",
        "time = 1300\n",
        "\n",
        "if time == 1300:\n",
        "  print('the store is open')\n",
        "else:\n",
        "  print('the store is closed')"
      ],
      "metadata": {
        "id": "87hjCtKgGKl3"
      },
      "execution_count": null,
      "outputs": []
    },
    {
      "cell_type": "code",
      "source": [
        "# now our code will do something when the conditional is False or True\n",
        "time = 1400\n",
        "\n",
        "if time == 1300:\n",
        "  print('the store is open')\n",
        "else:\n",
        "  print('the store is closed')"
      ],
      "metadata": {
        "id": "96Mfw1Z9Dq-x"
      },
      "execution_count": null,
      "outputs": []
    },
    {
      "cell_type": "markdown",
      "source": [
        "The way these `if` and `else` statements work is that the program will perform the tests in order.\n",
        "\n",
        "1. First, the `if` statement will be tested, and if the condition in that statement returns `False`, then the program will move down to the next test.\n",
        "\n",
        "2. If the first `if` statement returns `True`, then the program will *not* go on to the `else` statement.\n",
        "\n",
        "This order of operations becomes more complex as one adds more `if` and `else` statements, and you can also put `if` statements inside other `if` statements! But for now, this should give you the basics behind the if statement, and reading the Chapter 1, Section 4 in the NLTK Book will also help.\n"
      ],
      "metadata": {
        "id": "0-Qa-mH5B9Ja"
      }
    },
    {
      "cell_type": "markdown",
      "source": [
        "## `elif` statements\n",
        "\n",
        "Another control statement is the `elif` statement, which is a combination of `if` and `else`. Both `elif` and `else` must come after an initial `if` statement. Using `elif` allows you to include more than one possible outcome if the result of the initial `if` statement returns False.\n",
        "\n",
        "1. An `if` and one `else` allows you to consider two possibilities\n",
        "2. An `if`, one `elif`, and one `else` allows you to account for three possiblities.\n",
        "3. And so on...\n",
        "\n",
        "The syntax of `elif` is the same as an `else` statement — consider the code cells below - try changing the value of `number` so that you can get each of the different print statements to work.\n",
        "\n",
        "Below, you will see the `<` sign, which means \"less than\"\n"
      ],
      "metadata": {
        "id": "kYJdnruyM_vp"
      }
    },
    {
      "cell_type": "code",
      "source": [
        "number = 90\n",
        "\n",
        "if number < 5:\n",
        "  print('number less than 5')\n",
        "elif number < 8:\n",
        "  print('number is less than 8')\n",
        "elif number < 9:\n",
        "  print('number is less than 9')\n",
        "else:\n",
        "  print('number must be higher than 9')"
      ],
      "metadata": {
        "id": "XQFta_Y5Nv3K"
      },
      "execution_count": null,
      "outputs": []
    },
    {
      "cell_type": "markdown",
      "source": [
        "# More relational operators\n",
        "\n",
        "There are a number of different operators in addition to the `==` and `!=` operators which can compare general relations between two values:\n",
        "\n",
        "- x `>` y — is x greater than y?\n",
        "- x `>=` y — is x greater than or equal to y?\n",
        "- x `<` y — is x less than y?\n",
        "- x `<=` y — is x less than or equal to y\n",
        "\n",
        "These operators look like they might only work for numerical data, but you can actually compare strings using these methods."
      ],
      "metadata": {
        "id": "zV505IZo6mJc"
      }
    },
    {
      "cell_type": "code",
      "source": [
        "# Is Wellington greater than Auckland?\n",
        "'Wellington' > 'Auckland'"
      ],
      "metadata": {
        "id": "_iZhMsJFjVRB"
      },
      "execution_count": null,
      "outputs": []
    },
    {
      "cell_type": "markdown",
      "source": [
        "The reason this works is because you are comparing underlying numerical representations of the characters — akin to comparing alphabetization, but a bit more than that."
      ],
      "metadata": {
        "id": "r71DF1YAlWyM"
      }
    },
    {
      "cell_type": "code",
      "source": [
        "'a' > 'b'"
      ],
      "metadata": {
        "id": "TfQvEK7uldUy"
      },
      "execution_count": null,
      "outputs": []
    },
    {
      "cell_type": "code",
      "source": [
        "'ab' > 'a'"
      ],
      "metadata": {
        "id": "zUUFCzJulehQ"
      },
      "execution_count": null,
      "outputs": []
    },
    {
      "cell_type": "markdown",
      "source": [
        "You can actually see the numerical representation using the `ord()` function:\n",
        "\n",
        "97 is less than 98, so a is less than b. Interesting, but perhaps not very useful for most of our purposes."
      ],
      "metadata": {
        "id": "wDaRDudmlvOd"
      }
    },
    {
      "cell_type": "code",
      "source": [
        "ord('a')"
      ],
      "metadata": {
        "id": "-PAekHlblx93"
      },
      "execution_count": null,
      "outputs": []
    },
    {
      "cell_type": "code",
      "source": [
        "ord('b')"
      ],
      "metadata": {
        "id": "-y7pFZddlzLC"
      },
      "execution_count": null,
      "outputs": []
    },
    {
      "cell_type": "markdown",
      "source": [
        "## Adding logic: `and` & `or`\n",
        "\n",
        "In addition to the comparative operators, there are logical operators which allow us to place more specific constraints on our conditional statements:\n",
        "\n",
        "- x `and` y — both x and y must be True\n",
        "- x `or` y — either x or y must be True\n",
        "\n",
        "\n",
        "What are the philosophies of `and` & `or`?\n",
        "\n",
        "`and` (the enforcer)\n",
        " - everything must be `True` or else nothing is true!\n",
        "\n",
        "`or` (the optimist)\n",
        "- just needs one thing to be `True`\n",
        "\n",
        "\n",
        "\n",
        "\n"
      ],
      "metadata": {
        "id": "l8jwTbQNmGdW"
      }
    },
    {
      "cell_type": "code",
      "source": [
        "# and needs everything to be true\n",
        "5 == 5 and 1 == 1"
      ],
      "metadata": {
        "id": "XWufe17LnBQs"
      },
      "execution_count": null,
      "outputs": []
    },
    {
      "cell_type": "code",
      "source": [
        "# or just needs one thing to be true\n",
        "5 == 5 or 5 == 2"
      ],
      "metadata": {
        "id": "6XkrDuO1ov_O"
      },
      "execution_count": null,
      "outputs": []
    },
    {
      "cell_type": "markdown",
      "source": [
        "We can now create more specific conditions to determine if we can go into a store at certain times. Let's write a conditional statement that askes whether a value is later than 10am and earlier than 5pm.\n",
        "\n",
        "Try changing the value of `time` to different times (using different values between 0 and 2400) to get the program to return different results.\n",
        "\n",
        "> *(note if you try to enter a time like 0500 you will get an error, instead use 500)*"
      ],
      "metadata": {
        "id": "_QXLB3expMhE"
      }
    },
    {
      "cell_type": "code",
      "source": [
        "time = 1445\n",
        "\n",
        "if time >= 1000 and time <= 1700:\n",
        "  print('store is open!')\n",
        "else:\n",
        "  print('store is closed!')"
      ],
      "metadata": {
        "id": "fcaZHApGpTuS"
      },
      "execution_count": null,
      "outputs": []
    },
    {
      "cell_type": "markdown",
      "source": [
        "## Adding logic: `in` and `not`\n",
        "\n",
        "Let's wrap this up by looking at two more operators:\n",
        "\n",
        "- x `in` y — is x in y?\n",
        "- `not` x — is x not something?\n",
        "\n",
        "\n",
        "The use of `in` is very helpful if you would like to quickly check whether a single value is within a data container, such as lists. You could also search within other sequences, such as strings."
      ],
      "metadata": {
        "id": "dbYBLB3ynyZd"
      }
    },
    {
      "cell_type": "code",
      "source": [
        "# is the character \"a\" in this word?\n",
        "'a' in 'Melodrama'"
      ],
      "metadata": {
        "id": "iKq7Pjj5sXhx"
      },
      "execution_count": null,
      "outputs": []
    },
    {
      "cell_type": "code",
      "source": [
        "# it should be noted that capitalization matters!\n",
        "'A' in 'Melodrama'"
      ],
      "metadata": {
        "id": "9lukfTeGscK_"
      },
      "execution_count": null,
      "outputs": []
    },
    {
      "cell_type": "code",
      "source": [
        "# now consider a list\n",
        "'Melodrama' in ['Pure Heroine', 'Melodrama', 'Solar Power']"
      ],
      "metadata": {
        "id": "BAEtzxOqshqk"
      },
      "execution_count": null,
      "outputs": []
    },
    {
      "cell_type": "code",
      "source": [
        "# This returns False? why?\n",
        "# Because even though the character \"a\" exists in some values in the list, there is no single value of 'a' in this list.\n",
        "'a' in ['Pure Heroine', 'Melodrama', 'Solar Power']"
      ],
      "metadata": {
        "id": "jCcuYOgjsn0V"
      },
      "execution_count": null,
      "outputs": []
    },
    {
      "cell_type": "code",
      "source": [
        "# adding 'a' as a member of the list now returns True\n",
        "'a' in ['Pure Heroine', 'Melodrama', 'Solar Power', 'a']"
      ],
      "metadata": {
        "id": "Vo94bregEyQ9"
      },
      "execution_count": null,
      "outputs": []
    },
    {
      "cell_type": "markdown",
      "source": [
        "The `not` operator is a bit trickier — you cannot use it in a comparison. You can only use `not` to test whether the value of something is `True`. This makes it seems like it can only be used for testing `True` versus `False`. However, it's a bit fuzzier than that and has to do with Truthyness. Basically, any value which exists is `True` when asking if that value exists (a bit circular, I know).\n",
        "\n",
        "Examples help:\n",
        "\n"
      ],
      "metadata": {
        "id": "D0Ksm9PKs4b8"
      }
    },
    {
      "cell_type": "code",
      "source": [
        "# True is True, so not True is False\n",
        "not True"
      ],
      "metadata": {
        "id": "nCrkIDXVuJFz"
      },
      "execution_count": null,
      "outputs": []
    },
    {
      "cell_type": "code",
      "source": [
        "# False is False, so not False is True\n",
        "not False"
      ],
      "metadata": {
        "id": "bMNOPS35uJv_"
      },
      "execution_count": null,
      "outputs": []
    },
    {
      "cell_type": "code",
      "source": [
        "# define an empty string, it has no value\n",
        "# so it is not True and thus returns True if you check if it is not True\n",
        "# confused yet?\n",
        "my_empty_variable = ''\n",
        "not my_empty_variable"
      ],
      "metadata": {
        "id": "UkOdd8FwuP9I"
      },
      "execution_count": null,
      "outputs": []
    },
    {
      "cell_type": "code",
      "source": [
        "# but now it has something, it exists, it is True\n",
        "my_empty_variable = 'stuff'\n",
        "not my_empty_variable"
      ],
      "metadata": {
        "id": "qIQ0rFbsup9h"
      },
      "execution_count": null,
      "outputs": []
    },
    {
      "cell_type": "markdown",
      "source": [
        "The benefits of knowing about how values return `True` or `False` is that you can use this as a shorthand to check if something exists or not. This might not seem immediately useful for now, but it will come back later. A short demonstration:\n",
        "\n"
      ],
      "metadata": {
        "id": "2976hCahuu54"
      }
    },
    {
      "cell_type": "code",
      "source": [
        "# write a function to print the first character of a string:\n",
        "def print_first_char(x):\n",
        "  print(x[0])"
      ],
      "metadata": {
        "id": "3nl_21rXvGX0"
      },
      "execution_count": null,
      "outputs": []
    },
    {
      "cell_type": "code",
      "source": [
        "# run the function on the string \"VUW\"\n",
        "print_first_char('VUW')"
      ],
      "metadata": {
        "id": "qto23CFVvS4A"
      },
      "execution_count": null,
      "outputs": []
    },
    {
      "cell_type": "code",
      "source": [
        "# Run the function on an empty string - which gives an error\n",
        "print_first_char('')"
      ],
      "metadata": {
        "id": "cYhrAsJBvY4R"
      },
      "execution_count": null,
      "outputs": []
    },
    {
      "cell_type": "code",
      "source": [
        "# we can update our function with a safety check to make sure the string has a value\n",
        "def print_first_char_v2(x):\n",
        "\n",
        "  # this asks \"if x exists\" (the inverse of using `not`)\n",
        "  if x:\n",
        "    print(x[0])\n",
        "  # if x does not exist, do this instead\n",
        "  else:\n",
        "    print('nothing here!')"
      ],
      "metadata": {
        "id": "jO5Q5fphvdIO"
      },
      "execution_count": null,
      "outputs": []
    },
    {
      "cell_type": "code",
      "source": [
        "#function works as before with a string\n",
        "print_first_char_v2('VUW')"
      ],
      "metadata": {
        "id": "ZG9XN7WFvkXx"
      },
      "execution_count": null,
      "outputs": []
    },
    {
      "cell_type": "code",
      "source": [
        "# function now doesn't crash when given an empty string.\n",
        "print_first_char_v2('')"
      ],
      "metadata": {
        "id": "QFGx3iZQvmgM"
      },
      "execution_count": null,
      "outputs": []
    },
    {
      "cell_type": "markdown",
      "source": [
        "# **Your Turn**\n",
        "\n",
        "This notebook has gone through quite a lot of conditionals and operators. You should take the time to ensure you can construct some `if` statements as well as some simple to complex conditional statements. But don't worry — these things will be used over and over again in the rest of the notebooks, so you should gain more and more familiarity with them over time.\n",
        "\n",
        "If you'd like to test yourself, see if you can write an `if` statement which checks whether a word is longer than a certain number of characters and is also lower case. You could use `len()` to check the length and the string function `.islower()` to check if all characters in a string are lower case.\n",
        "\n",
        "In the code cell below is an example doing the opposite: checking if a word is less than a certain number and is also all caps.\n"
      ],
      "metadata": {
        "id": "hk1kS1w_xftP"
      }
    },
    {
      "cell_type": "code",
      "source": [
        "word = 'AAAAAAAAAAAAAAAAAA'"
      ],
      "metadata": {
        "id": "5IpSnYLIASTa"
      },
      "execution_count": null,
      "outputs": []
    },
    {
      "cell_type": "code",
      "source": [
        "if len(word) <= 3 and word.isupper():\n",
        "  print('found a short word which is all caps')\n",
        "elif len(word) > 3 and word.isupper():\n",
        "  print('found a long word which is all caps')\n",
        "elif word.islower():\n",
        "  print('found a word with all lower cases')\n",
        "else:\n",
        "  print('what the fuck is this?!')"
      ],
      "metadata": {
        "id": "WYofPOGmx_Ft"
      },
      "execution_count": null,
      "outputs": []
    }
  ]
}