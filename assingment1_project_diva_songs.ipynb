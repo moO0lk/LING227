{
  "nbformat": 4,
  "nbformat_minor": 0,
  "metadata": {
    "colab": {
      "provenance": [],
      "authorship_tag": "ABX9TyN2bxn9/cGvxzaZ/9iI7YEa",
      "include_colab_link": true
    },
    "kernelspec": {
      "name": "python3",
      "display_name": "Python 3"
    },
    "language_info": {
      "name": "python"
    }
  },
  "cells": [
    {
      "cell_type": "markdown",
      "metadata": {
        "id": "view-in-github",
        "colab_type": "text"
      },
      "source": [
        "<a href=\"https://colab.research.google.com/github/moO0lk/LING227/blob/main/assingment1_project_diva_songs.ipynb\" target=\"_parent\"><img src=\"https://colab.research.google.com/assets/colab-badge.svg\" alt=\"Open In Colab\"/></a>"
      ]
    },
    {
      "cell_type": "markdown",
      "source": [
        "for this one i'm choosing my favourite upbeat project diva songs. these are made from several vocaloid artists that appear in the game Hatsune Miku: Project DIVA\n",
        "\n",
        "choosing the upbeat songs because I want to see if they have similar used words. along with upbeat trying to find the \"happier\" vocaloid songs since a lot are upbeat but the lyrics are very depressing otherwise ` hehehehhehehehhehehehe `\n"
      ],
      "metadata": {
        "id": "ScXD96i9AtLe"
      }
    },
    {
      "cell_type": "markdown",
      "source": [
        "1. https://youtu.be/_2_B02mtKaM?si=HS-2bjWPWnkNXI13 A Song of Wastelands, Forests, and Magic (idk if this is upbeat i just like this song lol)\n",
        "2. https://youtu.be/cFYA7iYRrdI?si=MWGXO-7g-bWAQ978 Electric Angel\n",
        "\n",
        "3. https://youtu.be/ScSW9C3DF18?si=CE_HEwglEVfcM4_d Luka Luka★Night Fever\n",
        "\n",
        "4. https://youtu.be/mG0V34d5Abc?si=09WNHe66JPxPzwVR PoPiPo\n",
        "\n",
        "5. https://youtu.be/uwwU55zBYlQ?si=KHAcCOCAl9AABgBx Ageage Again\n",
        "\n",
        "6."
      ],
      "metadata": {
        "id": "OZ9qrI-UAbmd"
      }
    },
    {
      "cell_type": "code",
      "source": [],
      "metadata": {
        "id": "Ho47ywBLEMyc"
      },
      "execution_count": null,
      "outputs": []
    },
    {
      "cell_type": "code",
      "execution_count": null,
      "metadata": {
        "id": "CCT5Fw1D_9Na"
      },
      "outputs": [],
      "source": []
    }
  ]
}