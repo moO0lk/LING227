{
  "nbformat": 4,
  "nbformat_minor": 0,
  "metadata": {
    "colab": {
      "private_outputs": true,
      "provenance": [],
      "include_colab_link": true
    },
    "kernelspec": {
      "name": "python3",
      "display_name": "Python 3"
    },
    "language_info": {
      "name": "python"
    }
  },
  "cells": [
    {
      "cell_type": "markdown",
      "metadata": {
        "id": "view-in-github",
        "colab_type": "text"
      },
      "source": [
        "<a href=\"https://colab.research.google.com/github/moO0lk/LING227/blob/main/06_for_loops_and_list_comprehensions.ipynb\" target=\"_parent\"><img src=\"https://colab.research.google.com/assets/colab-badge.svg\" alt=\"Open In Colab\"/></a>"
      ]
    },
    {
      "cell_type": "markdown",
      "source": [
        "#### Relevant readings\n",
        "\n",
        "[NLTK Book, Chapter 1, Section 4](https://www.nltk.org/book/ch01.html#control_index_term)"
      ],
      "metadata": {
        "id": "F6-ciSSkeQkr"
      }
    },
    {
      "cell_type": "markdown",
      "source": [
        "# Traversal using `for` loops\n",
        "\n",
        "Being able to repeat the same action over a large set of data is one of the many benefits of learning how to use a programming language. One of the most fundamental ways to repeat an action is through the use of `for loops`. These are called `for loops` because they *loop* or repeat through a sequence of data, objects, values, or whatever you want to call them.\n",
        "\n",
        "What does the `for` mean? The use of \"for\" provides a hint about the way we control `for loops` — *for* specifies the units that will be looped over.\n",
        "\n",
        "For example, let's pretend we had a pile of documents that we wanted to shred. Our unit of measurement in this case is an individual document. So, if we wanted to shred each document one at a time, we could formalise this process using the following statement:\n",
        "\n",
        ">`for each document in all of my documents:`  \n",
        "\n",
        ">> `shred the document`  \n",
        "\n",
        "`... repeat until I run out of documents...`\n",
        "\n",
        "\n",
        "Applying this idea to Python, a `for loop` allows us to traverse an entire sequence and operate on elements of that sequence. For example, for each value in a sequence, we could:\n",
        "\n",
        "- print the value\n",
        "- use a built-in method\n",
        "- create a new variable based on the value\n",
        "- update a counter\n",
        "- perform a conditional test\n",
        "- etc...\n",
        "\n",
        "Much like the `if` statements, the `for` loop will contain a header with a colon followed by an indented body:\n",
        "\n",
        ">`for thing in sequence_of_things:`  \n",
        ">>  `do something`\n",
        "\n",
        "\n",
        "Run the following cell to see how a `for` loop works.\n",
        "\n",
        "Because a string is a *sequence* of characters, the for loop will go through that sequence one-at-a-time."
      ],
      "metadata": {
        "id": "3e8UKdqXKPGR"
      }
    },
    {
      "cell_type": "code",
      "source": [
        "# Print out each character of a string.\n",
        "for letter in 'word':\n",
        "  print(letter)"
      ],
      "metadata": {
        "id": "ugaOsnfjNyqC"
      },
      "execution_count": null,
      "outputs": []
    },
    {
      "cell_type": "markdown",
      "source": [
        "You may have noticed that there seemed to be a variable in the `for` loop named `letter`. In Python, the `for` loop needs a temporary variable to stand for the value that is being passed to the loop. In the example above, the value of `letter` changed each time the loop was run, starting with \"w\", then \"o\", then \"r\", then \"d\". Because this is a variable, you can set the name of the iterating variable to anything you want. A common variable used in a `for` loop is the lower case `i`. But, you might find it worthwhile to name your variable something which makes it clear what is being looped over.\n",
        "\n",
        "For example, if I am going to loop over every word in a string, I might want to name my iterating variable `word`.\n",
        "\n",
        "\n",
        "\n"
      ],
      "metadata": {
        "id": "VlTVH5HJN-Tp"
      }
    },
    {
      "cell_type": "code",
      "source": [
        "# loop over every value resulting from .split() on a string.\n",
        "for word in 'every day is exactly the same'.split():\n",
        "  print(word)"
      ],
      "metadata": {
        "id": "TihSp905P8M5"
      },
      "execution_count": null,
      "outputs": []
    },
    {
      "cell_type": "markdown",
      "source": [
        "> It is worth noting that `for` loops in Python are more simple to execute when compared to other programming languages. This is because the default range of a `for` loop in Python will be the beginning and ending of the sequence/thing that is being looped over. Other programming languages require the user to define the size of the loop, how to update the loop count, when to stop the loop, and so on. Fortunately, we don't need to worry about that here!"
      ],
      "metadata": {
        "id": "lZRH9qbPIXfP"
      }
    },
    {
      "cell_type": "markdown",
      "source": [
        "Consider the next example. I define a list and ask for each value of the list to be printed:"
      ],
      "metadata": {
        "id": "E8Wck1uBRtz_"
      }
    },
    {
      "cell_type": "code",
      "source": [
        "# define a list containing different countries\n",
        "countries = ['New Zealand', 'Australia', 'United States of America', 'Canada', 'Mexico', 'Norway']"
      ],
      "metadata": {
        "id": "89ntETm-R0ZM"
      },
      "execution_count": null,
      "outputs": []
    },
    {
      "cell_type": "code",
      "source": [
        "# note I use \"country\" as the variable for my loop\n",
        "# doing so helps me understand the nature of the values/data\n",
        "for country in countries:\n",
        "  print(country)"
      ],
      "metadata": {
        "id": "7DKu43aYSB2_"
      },
      "execution_count": null,
      "outputs": []
    },
    {
      "cell_type": "markdown",
      "source": [
        "## Conditional looping\n",
        "\n",
        "Now that we understand looping, let's add some conditional logic to make our loop perform different things, depending on the value it's seeing. Extend the prior example and print out a country only if the name of the country is six characters or more. I'll also use an `if/else` statement and string formatting to make [fancier print statements](https://realpython.com/python-f-strings/#f-strings-a-new-and-improved-way-to-format-strings-in-python)."
      ],
      "metadata": {
        "id": "9nnQr9p_Rg4K"
      }
    },
    {
      "cell_type": "code",
      "source": [
        "# start a loop through `countries`\n",
        "for country in countries:\n",
        "  # check the length, if its over six characters, do this\n",
        "  if len(country) > 6:\n",
        "    print(f'{country} has a long name!')\n",
        "  # if the if statement returns False, do this instead\n",
        "  else:\n",
        "    # the f'' string lets you combine {variables} and strings in one string.\n",
        "    print(f'{country} has a short name!')"
      ],
      "metadata": {
        "id": "9-FXDKf2SagG"
      },
      "execution_count": null,
      "outputs": []
    },
    {
      "cell_type": "markdown",
      "source": [
        "Let's now check if our countries are in certain regions/continents. I will define two separate lists of our regions, containing some countries. Then I'll write a new `for` loop which uses `in` to find which region a country belongs to."
      ],
      "metadata": {
        "id": "1Fdr_18CURdN"
      }
    },
    {
      "cell_type": "code",
      "source": [
        "# Define our two regions\n",
        "australasia = ['New Zealand', 'Australia']\n",
        "north_america = ['Canada', 'United States of America', 'Mexico']"
      ],
      "metadata": {
        "id": "VqWJaLycUQWX"
      },
      "execution_count": null,
      "outputs": []
    },
    {
      "cell_type": "code",
      "source": [
        "# check where our countries are\n",
        "for country in countries:\n",
        "  if country in australasia:\n",
        "    print(f'{country} is in Australasia!')\n",
        "  elif country in north_america:\n",
        "    print(f'{country} is in North America!')\n",
        "  else:\n",
        "    print(f'dunno where {country} is.')"
      ],
      "metadata": {
        "id": "eqWecgEEUi-u"
      },
      "execution_count": null,
      "outputs": []
    },
    {
      "cell_type": "markdown",
      "source": [
        "## Looping to check properties of words\n",
        "\n",
        "In a previous notebook I asked two questions about words/language you might want to answer:\n",
        "\n",
        "- what if you wanted to find all of the uppercase letters in the string `\"Victoria University of Wellington\"`?\n",
        "\n",
        "- what if you wanted to find all the words in a book which were over five letters long?\n",
        "\n",
        "Now that you have an understanding of conditional expressions and for loops, we can easily answer these questions. Can you figure them out? The first question would require looping over the characters in the string and checking whether `.isupper()` returns `True`. The second question would require looping over the words in a book and checking if `len(word)` is greater than five characters."
      ],
      "metadata": {
        "id": "yz52cSYNqZUA"
      }
    },
    {
      "cell_type": "code",
      "source": [
        "vuw = \"Victoria University of Wellington\"\n",
        "\n",
        "for character in vuw:\n",
        "  # note that this essentially asks `if character.isupper() == True`\n",
        "  if character.isupper():\n",
        "    print(f'{character} is an uppercased character!')\n",
        "  else:\n",
        "    # the \"\\\" in the ain\\'t escapes the apostrophe so the string doesn't end on that apostrophe\n",
        "    print(f'{character} ain\\'t uppercased')"
      ],
      "metadata": {
        "id": "RrOgd2D1Vb5r"
      },
      "execution_count": null,
      "outputs": []
    },
    {
      "cell_type": "markdown",
      "source": [
        "I'm going to read in a text from the internet in the next cell to demonstrate a longer text.  It's okay if you don't get what's going on, and we'll dig into this later.\n",
        "\n",
        "- I'm loading in a new library which allows us to read data from URLs\n",
        "- I'm then saving a URL of my choice as a string to the variable `url` (I already know this text is stored at this URL).  \n",
        "- I'm then asking the `request()` function to grab and decode the data associated with the URL.\n",
        "- decoding the text involves reading it (`.read()`) and decoding it (`.decode()`) using a specific encoding format (`'utf8'`).\n",
        "\n",
        "The result is the text data read in as a string. You can manually enter the URL into your browser to see what the data looks like."
      ],
      "metadata": {
        "id": "ldF0Va8jbX5f"
      }
    },
    {
      "cell_type": "code",
      "source": [
        "# import the request() function\n",
        "from urllib import request\n",
        "\n",
        "# save url to a variable\n",
        "url = 'https://raw.githubusercontent.com/scskalicky/LING-226-vuw/main/sample-texts/grasshopper.txt'\n",
        "\n",
        "# save the results of that url to a new variables\n",
        "response = request.urlopen(url)\n",
        "\n",
        "# decode the text\n",
        "grasshopper = response.read().decode('utf8')\n",
        "\n",
        "# examine the results\n",
        "print(grasshopper)"
      ],
      "metadata": {
        "id": "Tld_og2sZXMJ"
      },
      "execution_count": null,
      "outputs": []
    },
    {
      "cell_type": "markdown",
      "source": [
        "Now that we have a longer text loaded in, let's operate on each word of the text."
      ],
      "metadata": {
        "id": "cNuQxMsebunj"
      }
    },
    {
      "cell_type": "code",
      "source": [
        "# do you remember what will result from .split()?\n",
        "for word in grasshopper.split():\n",
        "  if len(word) > 5:\n",
        "    # \\t means tab, it's what creates the space in the output\n",
        "    print(f'{word} \\t is over five characters long!')\n",
        "  else:\n",
        "    print(f'{word} \\t must be five chars or less')\n",
        "\n",
        "\n",
        "# Examine the output. How accurate is this program? Are there any words that are incorrectly counted? Why is that happening?"
      ],
      "metadata": {
        "id": "XZpZc-B9buLU"
      },
      "execution_count": null,
      "outputs": []
    },
    {
      "cell_type": "markdown",
      "source": [
        "# Building something with a loop\n",
        "\n",
        "The two loops above show you how they work, but they only end up printing something to the console, which is not very useful. What is more useful is to create new values or objects from a loop, as well as put the loop inside of a function.\n",
        "\n",
        "For example, pretend that in addition to finding the words that are over five letters long, we then want to do something to those words and store the results for later use.\n",
        "\n",
        "One way to do so is to create an empty data container, such as a list, and then add words to the container if they pass a condition test. The cell below does the following:\n",
        "\n",
        "1. creates an empty list named `output`\n",
        "2. loops through the results of using `.split()` on grasshooper (which is a list of each word)\n",
        "3. checks whether a word is over five characters long\n",
        "4. If the word is over five characters long, it is added to `output` using the `.append()` list method."
      ],
      "metadata": {
        "id": "psuodCPE78Pz"
      }
    },
    {
      "cell_type": "code",
      "source": [
        "# output starts out empty\n",
        "output = []\n",
        "\n",
        "# loop over every string in the list\n",
        "for word in grasshopper.split():\n",
        "  if len(word) > 5:\n",
        "    # each time a word in grasshopper meets this condition, it is added to output\n",
        "    output.append(word)\n",
        "\n",
        "# show the output - a list of words over 5 characters long.\n",
        "print(output)"
      ],
      "metadata": {
        "id": "VcbQcetu-KiV"
      },
      "execution_count": null,
      "outputs": []
    },
    {
      "cell_type": "markdown",
      "source": [
        "One issue with the cell above is that `output` is now part of the global environment, meaning that the variable exists independent of that for loop. Because everything is included in one cell, the value of `output` will be reset each time you run that cell. However, if `output` was in its own code cell, it would not be reset if the for loop was run multiple times. This would create a duplicated list over and over - so be careful!\n",
        "\n",
        "To prevent these sorts of troubles, we can write our own functions. This means the `output` variable and the for loop will live inside the function, making for less chances that variables get confused as your programs grow in complexity.\n",
        "\n",
        "Note the function below:\n",
        "\n",
        "1. first I define the function using `def` and name it `five_letters`\n",
        "2. the function takes one argument, `text` - this is an arbitrary name like any variable name\n",
        "3. On line 3 I create an empty list named `output`\n",
        "4. Line four defines a `for loop` over the words from `.split()`. Note that the variable `text` will stand for whatever input we give the function\n",
        "5. Line 5 has the conditional test\n",
        "6. Line 6 adds the word to the list if it passes the test (i.e., the condition returns `True`)\n",
        "7. Line 7 is a `return` statement which only executes once the `for` loop is complete.\n",
        "\n",
        "The `return` statement means we can save the *results* of this function to a new variable, or watch the results be sent to the console.\n",
        "\n",
        "Running the cell below loads the function into memory."
      ],
      "metadata": {
        "id": "Az6wtILd_JY0"
      }
    },
    {
      "cell_type": "code",
      "source": [
        "# make a function to store five-letter words\n",
        "def five_letters(text):\n",
        "  output = []\n",
        "  for word in text.split():\n",
        "    if len(word) > 5:\n",
        "      output.append(word)\n",
        "  return output"
      ],
      "metadata": {
        "id": "1LE0hlgm_zdF"
      },
      "execution_count": null,
      "outputs": []
    },
    {
      "cell_type": "code",
      "source": [
        "# now use the function on grasshopper\n",
        "# just running the function gives us the output.\n",
        "five_letters(grasshopper)"
      ],
      "metadata": {
        "id": "AYQbjaRUEoyY"
      },
      "execution_count": null,
      "outputs": []
    },
    {
      "cell_type": "code",
      "source": [
        "# we can also save the results of the function to a new variable\n",
        "grasshopper_five_letter_words = five_letters(grasshopper)"
      ],
      "metadata": {
        "id": "nO0bjO1jEsxz"
      },
      "execution_count": null,
      "outputs": []
    },
    {
      "cell_type": "code",
      "source": [
        "# look at the variable\n",
        "grasshopper_five_letter_words"
      ],
      "metadata": {
        "id": "PwuZXmfOKNej"
      },
      "execution_count": null,
      "outputs": []
    },
    {
      "cell_type": "code",
      "source": [
        "# Then we can perform new operations on our new variable!\n",
        "for word in grasshopper_five_letter_words:\n",
        "  if len(word) > 7:\n",
        "    print(f'{word} \\t is even longer than five!')"
      ],
      "metadata": {
        "id": "VMUfx_eSEyFp"
      },
      "execution_count": null,
      "outputs": []
    },
    {
      "cell_type": "markdown",
      "source": [
        "# List Comprehensions\n",
        "\n",
        "So now that you've learned `for loops`, it's time to learn an alternative method which is commonly used in Python. This alternative method is effectively an efficient shorthand for looping and unpacking, which you will see used excessivly in the NLTK book as well as almost anywhere else someone is using Python.\n",
        "\n",
        "This alternative format is known as a `list comprehension`. List comprehensions are good because they provide efficiency, but they can be a bit tricky to interpret when you first see them.\n",
        "\n",
        "The general syntax of a list comprehension is as follows:\n",
        "\n",
        "> `[statement/expression for value in sequence/generator]`\n",
        "\n",
        "The list comprehension above uses `[]`, just like a list, and will indeed return a list of values which meet the statement or expression indicated in the *first* part of the list comprehension.\n",
        "\n",
        "In the next cell you will see a simple list comprehension. You'll note in the example below  says `letter for letter`, which can be interpreted as \"for each value, give me the value\". This is the basic way to unpack a sequence into a `list`, rather than spitting each value out one-at-a-time like a `for loop`.\n",
        "\n"
      ],
      "metadata": {
        "id": "yXxRj63ocuAf"
      }
    },
    {
      "cell_type": "code",
      "source": [
        "# ask for each letter in \"word\"\n",
        "# note that the results are a list\n",
        "[letter for letter in 'word']"
      ],
      "metadata": {
        "id": "hqpZeHA-HOP-"
      },
      "execution_count": null,
      "outputs": []
    },
    {
      "cell_type": "markdown",
      "source": [
        "To achieve the same effect using a `for` loop, we would have to define a temporary output container and `.append()` or otherwise join our values to that container. A list comprehension avoids the need to do this.\n"
      ],
      "metadata": {
        "id": "J-FIhjJDUk34"
      }
    },
    {
      "cell_type": "code",
      "source": [
        "# list comprehension helps us avoid the need to make empty containers and fill them\n",
        "output = []\n",
        "\n",
        "for letter in 'word':\n",
        "  output.append(letter)\n",
        "\n",
        "output"
      ],
      "metadata": {
        "id": "lRcjavvSUoUY"
      },
      "execution_count": null,
      "outputs": []
    },
    {
      "cell_type": "markdown",
      "source": [
        "Hopefully you can see how a list comprehension is useful — for instance we can save the results of a list comprehension directly to a variable, bypassing the need to create empty storage containers:"
      ],
      "metadata": {
        "id": "II6zOxCwUydn"
      }
    },
    {
      "cell_type": "code",
      "source": [
        "letters = [letter for letter in 'word']\n",
        "letters"
      ],
      "metadata": {
        "id": "soor1ZN-U6Ri"
      },
      "execution_count": null,
      "outputs": []
    },
    {
      "cell_type": "markdown",
      "source": [
        "## Performing operations in a list comprehension\n",
        "\n",
        "The expression on the left side of the list comprehension (before the `for`) is the place where we can perform operations on the values we are looping across. So, instead of just returning the value, we could do things like measure their length, convert to uppercase, or any other number of functions.\n",
        "\n",
        "The example below returns an upper cased version of each letter:"
      ],
      "metadata": {
        "id": "9kpuVMZhVxtL"
      }
    },
    {
      "cell_type": "code",
      "source": [
        "# this is equivalent to: for each letter in word, return letter.upper()\n",
        "upper_cased = [letter.upper() for letter in 'word']\n",
        "upper_cased"
      ],
      "metadata": {
        "id": "DhU6eFwFWBCg"
      },
      "execution_count": null,
      "outputs": []
    },
    {
      "cell_type": "markdown",
      "source": [
        "The next example measures the length of words:\n",
        "\n",
        "- note how I just use `w` as my looping variable, which is not as transparent, but quicker to type\n",
        "- note how I use `.split()` on a raw string - this means the loop will be over values in a list"
      ],
      "metadata": {
        "id": "pbvoRWHYWGg5"
      }
    },
    {
      "cell_type": "code",
      "source": [
        "# this is equivalent to: for each word in pretzels.split(), tell me the length of the word\n",
        "word_lengths = [len(w) for w in 'these pretzels are making me thirsty!'.split()]\n",
        "word_lengths"
      ],
      "metadata": {
        "id": "YaU_rMw3WJkV"
      },
      "execution_count": null,
      "outputs": []
    },
    {
      "cell_type": "markdown",
      "source": [
        "We can wrap the left-side expression in its own container to generate smaller sequences of values:\n",
        "\n",
        "- note how I include two versions of `w` inside square brackets `[]`, the first `w` returns the value itself, while `len(w)` returns the length of w. Because they are in square brackets, they form their own list inside the larger list."
      ],
      "metadata": {
        "id": "_sJpH88oWUEz"
      }
    },
    {
      "cell_type": "code",
      "source": [
        "# this is equivalent to: for each word in pretzels.split(), give me the word and the length of a word inside a new list\n",
        "word_and_word_lengths = [[w, len(w)] for w in 'these pretzels are making me thirsty!'.split()]\n",
        "word_and_word_lengths"
      ],
      "metadata": {
        "id": "cdpFATgFWcI4"
      },
      "execution_count": null,
      "outputs": []
    },
    {
      "cell_type": "markdown",
      "source": [
        "## Adding conditions to a list comprehension\n",
        "\n",
        "Just as we did with `for loops`, we can add conditional logic to a list comprehension so that only certain values or operations are applied.\n",
        "\n",
        "We use the right side of the list comprehension for this (the stuff after the `in`).\n",
        "\n",
        "The syntax looks like this:\n",
        "\n",
        "> `[expression for value in sequence if CONDITION]`\n",
        "\n",
        "For example, the following list comprehension includes an `if` statement that checks for whether the character is uppercased:"
      ],
      "metadata": {
        "id": "n3GpLHAaU-1Z"
      }
    },
    {
      "cell_type": "code",
      "source": [
        "# Let's make the acronym VUW\n",
        "# this is equivalent to: for each character in the string, give me that character if the character is upper cased.\n",
        "[letter for letter in 'Victoria University of Wellington' if letter.isupper()]"
      ],
      "metadata": {
        "id": "EYMt6TwXIvBH"
      },
      "execution_count": null,
      "outputs": []
    },
    {
      "cell_type": "markdown",
      "source": [
        "The next example builds upon an earlier example of a `for` loop to find words over five characters long in our grasshopper example. As a reminder, here is what the `for` loop looked like:\n",
        "\n",
        "```\n",
        "output = []\n",
        "for word in grasshopper.split():\n",
        "  if len(word) > 5:\n",
        "    output.append(word)\n",
        "```\n",
        "\n",
        "Now see how the list comprehension does the same thing in a more compact manner:"
      ],
      "metadata": {
        "id": "KrWRT0E6JIP9"
      }
    },
    {
      "cell_type": "code",
      "source": [
        "# give me those 5 letter or more words!\n",
        "[word for word in grasshopper.split() if len(word) > 5]"
      ],
      "metadata": {
        "id": "VvCd8DazJBcz"
      },
      "execution_count": null,
      "outputs": []
    },
    {
      "cell_type": "markdown",
      "source": [
        "The sky is the limit. You can include as many complex conditional and expressions as you need. Sometimes list comprehensions can become *too* complex and unreadable, but some people enjoy the challenge of making such \"one liners\"."
      ],
      "metadata": {
        "id": "KjC8WVxeKOIW"
      }
    },
    {
      "cell_type": "code",
      "source": [
        "# can you understand what's going on in this one?\n",
        "[[w, w.upper(), len(w)] for w in grasshopper.split() if w.islower() and len(w) > 7]"
      ],
      "metadata": {
        "id": "ivBrMVy4KUR4"
      },
      "execution_count": null,
      "outputs": []
    },
    {
      "cell_type": "markdown",
      "source": [
        "# Should you always use list comprehensions?\n",
        "\n",
        "There are a [number of benefits](https://realpython.com/list-comprehension-python/) in using list comprehensions. But there is also something beneficial about writing a `for loop`, especially when you are just starting out. A `for loop` *can* be a bit more readable at first, but you may also find the transition between the two becomes easier over time. If you want to stick with `for loops` in this course, that is okay!\n",
        "\n"
      ],
      "metadata": {
        "id": "-xK5tHHKJscV"
      }
    }
  ]
}