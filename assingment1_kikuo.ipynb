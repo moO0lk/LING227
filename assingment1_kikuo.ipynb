{
  "nbformat": 4,
  "nbformat_minor": 0,
  "metadata": {
    "colab": {
      "provenance": [],
      "authorship_tag": "ABX9TyNyJMzUVy+/Lzd0wbXVEvAa",
      "include_colab_link": true
    },
    "kernelspec": {
      "name": "python3",
      "display_name": "Python 3"
    },
    "language_info": {
      "name": "python"
    }
  },
  "cells": [
    {
      "cell_type": "markdown",
      "metadata": {
        "id": "view-in-github",
        "colab_type": "text"
      },
      "source": [
        "<a href=\"https://colab.research.google.com/github/moO0lk/LING227/blob/main/assingment1_kikuo.ipynb\" target=\"_parent\"><img src=\"https://colab.research.google.com/assets/colab-badge.svg\" alt=\"Open In Colab\"/></a>"
      ]
    },
    {
      "cell_type": "markdown",
      "source": [
        "The 10 texts I chose for my corpus are song lyrics by the artist Kikuo.\n",
        "Currently debating whether I should use an english translated version of the lyrics. I won't be translating it myself, there are already websites out there with the english translation. I'm not sure if they are all the same though.\n",
        "\n",
        "Kikuos songs are usually about darker subject matter so it would be intresting to see what I get (idk what to write right now)"
      ],
      "metadata": {
        "id": "0RkAfsY_9gwh"
      }
    },
    {
      "cell_type": "markdown",
      "source": [
        "https://vocaloidlyrics.fandom.com/wiki/%E3%81%82%E3%81%AA%E3%81%90%E3%82%89%E3%81%90%E3%82%89%E3%81%97_(Anagura-gurashi)\n",
        "\n",
        "https://vocaloidlyrics.fandom.com/wiki/%E6%84%9B%E3%81%97%E3%81%A6%E6%84%9B%E3%81%97%E3%81%A6%E6%84%9B%E3%81%97%E3%81%A6_(Aishite_Aishite_Aishite)\n",
        "\n",
        "https://vocaloidlyrics.fandom.com/wiki/%E3%81%97%E3%81%8B%E3%81%B0%E3%81%AD%E3%81%AE%E8%B8%8A%E3%82%8A_(Shikabane_no_Odori)\n",
        "\n",
        "https://vocaloidlyrics.fandom.com/wiki/%E3%81%94%E3%82%81%E3%82%93%E3%81%AD_%E3%81%94%E3%82%81%E3%82%93%E3%81%AD_(Gomenne_Gomenne) might not do this one. the lyrcis are pretty nasty...\n",
        "\n"
      ],
      "metadata": {
        "id": "h3N4laPi-ZLY"
      }
    },
    {
      "cell_type": "code",
      "source": [],
      "metadata": {
        "id": "7POBIIXz-Y3D"
      },
      "execution_count": null,
      "outputs": []
    },
    {
      "cell_type": "code",
      "execution_count": null,
      "metadata": {
        "id": "D-B6A1u_pMwi"
      },
      "outputs": [],
      "source": []
    }
  ]
}